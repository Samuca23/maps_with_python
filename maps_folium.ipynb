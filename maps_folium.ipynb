{
 "cells": [
  {
   "cell_type": "code",
   "execution_count": 17,
   "metadata": {},
   "outputs": [],
   "source": [
    "import folium\n",
    "\n",
    "mapa = folium.Map(location=[-27.2107, -49.6442], zoom_start=14)\n",
    "\n",
    "bairros = {\n",
    "    'Centro': [\n",
    "        (-27.2157, -49.6452),\n",
    "        (-27.2150, -49.6460)\n",
    "    ],\n",
    "    'Jardim América': [\n",
    "        (-27.2118, -49.6439),\n",
    "        (-27.2092, -49.6422),\n",
    "        (-27.2095, -49.6425),\n",
    "        (-27.2090, -49.6420)\n",
    "    ]\n",
    "}\n",
    "\n",
    "for bairro, coords in bairros.items():\n",
    "    if bairro == 'Centro':\n",
    "        icon_color = 'red'  \n",
    "    elif bairro == 'Jardim América':\n",
    "        icon_color = 'blue'  \n",
    "\n",
    "    for lat, lon in coords:\n",
    "        folium.Marker(\n",
    "            location=[lat, lon],\n",
    "            popup=f'<strong>Bairro:</strong> {bairro}<br><strong>Total:</strong> {len(coords)}',\n",
    "            icon=folium.Icon(color=icon_color)  \n",
    "        ).add_to(mapa)\n",
    "\n",
    "mapa.save('mapa_com_pontos.html')\n"
   ]
  }
 ],
 "metadata": {
  "kernelspec": {
   "display_name": "Python 3",
   "language": "python",
   "name": "python3"
  },
  "language_info": {
   "codemirror_mode": {
    "name": "ipython",
    "version": 3
   },
   "file_extension": ".py",
   "mimetype": "text/x-python",
   "name": "python",
   "nbconvert_exporter": "python",
   "pygments_lexer": "ipython3",
   "version": "3.12.0"
  }
 },
 "nbformat": 4,
 "nbformat_minor": 2
}
